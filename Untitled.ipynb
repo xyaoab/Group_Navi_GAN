{
 "cells": [
  {
   "cell_type": "code",
   "execution_count": 15,
   "metadata": {},
   "outputs": [],
   "source": [
    "b  = [[]]*2"
   ]
  },
  {
   "cell_type": "code",
   "execution_count": null,
   "metadata": {},
   "outputs": [],
   "source": []
  },
  {
   "cell_type": "code",
   "execution_count": 16,
   "metadata": {},
   "outputs": [
    {
     "data": {
      "text/plain": [
       "[[], []]"
      ]
     },
     "execution_count": 16,
     "metadata": {},
     "output_type": "execute_result"
    }
   ],
   "source": [
    "b"
   ]
  },
  {
   "cell_type": "code",
   "execution_count": 18,
   "metadata": {},
   "outputs": [
    {
     "data": {
      "text/plain": [
       "[[1, 2, 3], [2, 3, 4]]"
      ]
     },
     "execution_count": 18,
     "metadata": {},
     "output_type": "execute_result"
    }
   ],
   "source": [
    "c"
   ]
  },
  {
   "cell_type": "code",
   "execution_count": 21,
   "metadata": {},
   "outputs": [],
   "source": [
    "tmp11 =[ [row[1]] for row in c]"
   ]
  },
  {
   "cell_type": "code",
   "execution_count": 23,
   "metadata": {},
   "outputs": [
    {
     "data": {
      "text/plain": [
       "[]"
      ]
     },
     "execution_count": 23,
     "metadata": {},
     "output_type": "execute_result"
    }
   ],
   "source": [
    "[x+y for x,y in zip(b[1],tmp11)]"
   ]
  },
  {
   "cell_type": "code",
   "execution_count": 8,
   "metadata": {},
   "outputs": [],
   "source": [
    "file_name = '/home/asus/torch_gpu_ros_3.6/biwi_eth_train.txt'"
   ]
  },
  {
   "cell_type": "code",
   "execution_count": 9,
   "metadata": {},
   "outputs": [],
   "source": [
    "all_time = np.genfromtxt(file_name, usecols=(0))\n",
    "userid = np.genfromtxt(file_name, usecols=(1))\n",
    "x = np.genfromtxt(file_name, usecols=(2))\n",
    "y = np.genfromtxt(file_name, usecols=(3))\n",
    "active_peds_id = np.unique(userid)\n",
    "times = np.unique(all_time)\n",
    "active_peds_id.sort()\n",
    "times.sort()\n",
    "    allY = np.zeros((len(times), len(addresses)))\n",
    "    allX = np.zeros((len(times), 2))\n",
    "    strengths={}\n",
    "    for address, j in zip(addresses, list(range(len(addresses)))):\n",
    "        ind = np.nonzero(address==macaddress)\n",
    "        temp_strengths=strength[ind]\n",
    "        temp_x=x[ind]\n",
    "        temp_y=y[ind]\n",
    "        temp_times = all_time[ind]\n",
    "        for time in temp_times:\n",
    "            vals = time==temp_times\n",
    "            if any(vals):\n",
    "                ind2 = np.nonzero(vals)\n",
    "                i = np.nonzero(time==times)\n",
    "                allY[i, j] = temp_strengths[ind2]\n",
    "                allX[i, 0] = temp_x[ind2]\n",
    "                allX[i, 1] = temp_y[ind2]\n",
    "    X = allX[:, :]\n",
    "Y = allY[:, :]"
   ]
  },
  {
   "cell_type": "code",
   "execution_count": 37,
   "metadata": {},
   "outputs": [
    {
     "data": {
      "text/plain": [
       "'780.0\\t1.0\\t8.46\\t3.59\\n'"
      ]
     },
     "execution_count": 37,
     "metadata": {},
     "output_type": "execute_result"
    }
   ],
   "source": []
  },
  {
   "cell_type": "code",
   "execution_count": null,
   "metadata": {},
   "outputs": [],
   "source": [
    "state_queue.append({'active_peds_id': active_peds_id,\n",
    "                                 'peds_pos_t': peds_pos_t,\n",
    "                                 'time_stamp': scanTime})"
   ]
  }
 ],
 "metadata": {
  "kernelspec": {
   "display_name": "torch_gpu_ros_3.6",
   "language": "python",
   "name": "torch_gpu_ros_3.6"
  },
  "language_info": {
   "codemirror_mode": {
    "name": "ipython",
    "version": 3
   },
   "file_extension": ".py",
   "mimetype": "text/x-python",
   "name": "python",
   "nbconvert_exporter": "python",
   "pygments_lexer": "ipython3",
   "version": "3.6.8"
  }
 },
 "nbformat": 4,
 "nbformat_minor": 2
}
